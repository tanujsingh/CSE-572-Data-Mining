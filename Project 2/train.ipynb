{
 "cells": [
  {
   "cell_type": "code",
   "execution_count": 33,
   "metadata": {},
   "outputs": [],
   "source": [
    "import numpy as np\n",
    "import pandas as pd\n",
    "import datetime\n",
    "from sklearn import svm\n",
    "from sklearn.model_selection import train_test_split\n",
    "from sklearn.metrics import accuracy_score\n",
    "import pickle"
   ]
  },
  {
   "cell_type": "code",
   "execution_count": 34,
   "metadata": {},
   "outputs": [],
   "source": [
    "# load CGM data\n",
    "cgm_data_df = pd.read_excel('./CGMData670GPatient3.xlsx', usecols=[\"Date\", \"Time\", \"Sensor Glucose (mg/dL)\"])\n",
    "\n",
    "# datetime formatting\n",
    "cgm_data_df['DateTime'] = pd.to_datetime(cgm_data_df['Date'].astype(str) + ' ' + cgm_data_df['Time'].astype(str))\n",
    "cgm_data_df.drop(columns=[\"Date\", \"Time\"], inplace=True)\n",
    "\n",
    "# load CGM data\n",
    "cgm_data_p_df = pd.read_csv('./CGMData.csv', usecols=[\"Date\", \"Time\", \"Sensor Glucose (mg/dL)\"])\n",
    "\n",
    "# datetime formatting\n",
    "cgm_data_p_df['DateTime'] = pd.to_datetime(cgm_data_p_df['Date'].astype(str) + ' ' + cgm_data_p_df['Time'].astype(str))\n",
    "cgm_data_p_df.drop(columns=[\"Date\", \"Time\"], inplace=True)"
   ]
  },
  {
   "cell_type": "code",
   "execution_count": 35,
   "metadata": {},
   "outputs": [],
   "source": [
    "# load Insulin data\n",
    "insulin_data_df = pd.read_excel(\"./InsulinAndMealIntake670GPatient3.xlsx\", usecols=[\"Date\",\"Time\",\"BWZ Carb Input (grams)\"])\n",
    "\n",
    "# datetime formatting\n",
    "insulin_data_df['DateTime'] = pd.to_datetime(insulin_data_df['Date'].astype(str) + ' ' + insulin_data_df['Time'].astype(str))\n",
    "insulin_data_df.drop(columns=[\"Date\", \"Time\"], inplace=True)\n",
    "\n",
    "# load Insulin data\n",
    "insulin_data_p_df = pd.read_csv(\"./InsulinData.csv\", usecols=[\"Date\",\"Time\",\"BWZ Carb Input (grams)\"])\n",
    "\n",
    "# datetime formatting\n",
    "insulin_data_p_df['DateTime'] = pd.to_datetime(insulin_data_p_df['Date'].astype(str) + ' ' + insulin_data_p_df['Time'].astype(str))\n",
    "insulin_data_p_df.drop(columns=[\"Date\", \"Time\"], inplace=True)"
   ]
  },
  {
   "cell_type": "code",
   "execution_count": 36,
   "metadata": {},
   "outputs": [],
   "source": [
    "# get datetime of all meals\n",
    "filt = insulin_data_df['BWZ Carb Input (grams)'].notnull() & insulin_data_df['BWZ Carb Input (grams)'] != 0\n",
    "insulin_all_meal_df = insulin_data_df.loc[filt][\"DateTime\"].sort_values()\n",
    "\n",
    "# get datetime of all meals\n",
    "filt = insulin_data_p_df['BWZ Carb Input (grams)'].notnull() & insulin_data_p_df['BWZ Carb Input (grams)'] != 0\n",
    "insulin_p_all_meal_df = insulin_data_p_df.loc[filt][\"DateTime\"].sort_values()"
   ]
  },
  {
   "cell_type": "code",
   "execution_count": 37,
   "metadata": {},
   "outputs": [],
   "source": [
    "# filter meal times if another meal is not within 2hours\n",
    "filt = []\n",
    "for i in range(len(insulin_all_meal_df) - 1):\n",
    "    td = insulin_all_meal_df.iloc[i+1] - insulin_all_meal_df.iloc[i]\n",
    "    if td.total_seconds() <= 2*60*60:\n",
    "        filt.append(False)\n",
    "    else:\n",
    "        filt.append(True)\n",
    "filt.append(True)\n",
    "insulin_meal_df = insulin_all_meal_df[filt]\n",
    "\n",
    "# filter meal times if another meal is not within 2hrs\n",
    "filt = []\n",
    "for i in range(len(insulin_p_all_meal_df) - 1):\n",
    "    td = insulin_p_all_meal_df.iloc[i+1] - insulin_p_all_meal_df.iloc[i]\n",
    "    if td.total_seconds() <= 2*60*60:\n",
    "        filt.append(False)\n",
    "    else:\n",
    "        filt.append(True)\n",
    "filt.append(True)\n",
    "insulin_p_meal_df = insulin_p_all_meal_df[filt]\n"
   ]
  },
  {
   "cell_type": "code",
   "execution_count": 38,
   "metadata": {},
   "outputs": [],
   "source": [
    "# extracting meal data from CGM data \n",
    "cols = list(range(1,31))\n",
    "meal_data_df = pd.DataFrame()\n",
    "for i in range(len(insulin_meal_df)):\n",
    "    ll = insulin_meal_df.iloc[i] - datetime.timedelta(seconds=30*60)\n",
    "    ul = insulin_meal_df.iloc[i] + datetime.timedelta(seconds=2*60*60)\n",
    "    filt = (cgm_data_df[\"DateTime\"] >= ll) & (cgm_data_df[\"DateTime\"] < ul)\n",
    "    filter_cgm_data_df = cgm_data_df[filt]\n",
    "    if len(filter_cgm_data_df.index) == 30 and filter_cgm_data_df.isnull().values.any() == False:\n",
    "        filter_cgm_data_df = filter_cgm_data_df.sort_values(by=\"DateTime\").T\n",
    "        filter_cgm_data_df.drop('DateTime', inplace=True)\n",
    "        filter_cgm_data_df.reset_index(drop=True, inplace=True)\n",
    "        filter_cgm_data_df.columns = cols\n",
    "        meal_data_df = meal_data_df.append(filter_cgm_data_df, ignore_index=True)\n",
    "\n",
    "meal_data_df = meal_data_df.apply(pd.to_numeric)\n",
    "\n",
    "# extracting meal data from CGM data\n",
    "cols = list(range(1,31))\n",
    "meal_data_p_df = pd.DataFrame()\n",
    "for i in range(len(insulin_p_meal_df)):\n",
    "    ll = insulin_p_meal_df.iloc[i] - datetime.timedelta(seconds=30*60)\n",
    "    ul = insulin_p_meal_df.iloc[i] + datetime.timedelta(seconds=2*60*60)\n",
    "    filt = (cgm_data_p_df[\"DateTime\"] >= ll) & (cgm_data_p_df[\"DateTime\"] < ul)\n",
    "    filter_cgm_data_df = cgm_data_p_df[filt]\n",
    "    if len(filter_cgm_data_df.index) == 30 and filter_cgm_data_df.isnull().values.any() == False:\n",
    "        filter_cgm_data_df = filter_cgm_data_df.sort_values(by=\"DateTime\").T\n",
    "        filter_cgm_data_df.drop('DateTime', inplace=True)\n",
    "        filter_cgm_data_df.reset_index(drop=True, inplace=True)\n",
    "        filter_cgm_data_df.columns = cols\n",
    "        meal_data_p_df = meal_data_p_df.append(filter_cgm_data_df, ignore_index=True)\n",
    "\n",
    "meal_data_p_df = meal_data_p_df.apply(pd.to_numeric)"
   ]
  },
  {
   "cell_type": "code",
   "execution_count": 39,
   "metadata": {},
   "outputs": [],
   "source": [
    "# extracting meal data from CGM data\n",
    "cols = list(range(1,25))\n",
    "meal_data_p_test_df = pd.DataFrame()\n",
    "for i in range(len(insulin_p_meal_df)):\n",
    "    ll = insulin_p_meal_df.iloc[i]\n",
    "    ul = insulin_p_meal_df.iloc[i] + datetime.timedelta(seconds=2*60*60)\n",
    "    filt = (cgm_data_p_df[\"DateTime\"] >= ll) & (cgm_data_p_df[\"DateTime\"] < ul)\n",
    "    filter_cgm_data_df = cgm_data_p_df[filt]\n",
    "    if len(filter_cgm_data_df.index) == 24 and filter_cgm_data_df.isnull().values.any() == False:\n",
    "        filter_cgm_data_df = filter_cgm_data_df.sort_values(by=\"DateTime\").T\n",
    "        filter_cgm_data_df.drop('DateTime', inplace=True)\n",
    "        filter_cgm_data_df.reset_index(drop=True, inplace=True)\n",
    "        filter_cgm_data_df.columns = cols\n",
    "        meal_data_p_test_df = meal_data_p_test_df.append(filter_cgm_data_df, ignore_index=True)\n",
    "\n",
    "meal_data_p_test_df = meal_data_p_test_df.apply(pd.to_numeric)"
   ]
  },
  {
   "cell_type": "code",
   "execution_count": 40,
   "metadata": {},
   "outputs": [],
   "source": [
    "# filter no meal times by checking if another meal is not happening within 4hours, and then storing all start times within 2hours\n",
    "no_meal_times = []\n",
    "for i in range(len(insulin_all_meal_df) - 1):\n",
    "    td = insulin_all_meal_df.iloc[i+1] - insulin_all_meal_df.iloc[i]\n",
    "    if td.total_seconds() > 4*60*60:\n",
    "        tc = insulin_all_meal_df.iloc[i] + datetime.timedelta(seconds=2*60*60)\n",
    "        while (insulin_all_meal_df.iloc[i+1] - tc).total_seconds() > 2*60*60:\n",
    "            no_meal_times.append(tc)\n",
    "            tc = tc + datetime.timedelta(seconds=2*60*60)\n",
    "\n",
    "# filter no meal times by checking if another meal is not happening within 4hours, and then storing all start times within 2hours\n",
    "no_meal_times_p = []\n",
    "for i in range(len(insulin_p_all_meal_df) - 1):\n",
    "    td = insulin_p_all_meal_df.iloc[i+1] - insulin_p_all_meal_df.iloc[i]\n",
    "    if td.total_seconds() > 4*60*60:\n",
    "        tc = insulin_p_all_meal_df.iloc[i] + datetime.timedelta(seconds=2*60*60)\n",
    "        while (insulin_p_all_meal_df.iloc[i+1] - tc).total_seconds() > 2*60*60:\n",
    "            no_meal_times_p.append(tc)\n",
    "            tc = tc + datetime.timedelta(seconds=2*60*60)"
   ]
  },
  {
   "cell_type": "code",
   "execution_count": 41,
   "metadata": {},
   "outputs": [],
   "source": [
    "# extracting no meal data from CGM data\n",
    "cols = list(range(1,25))\n",
    "no_meal_data_df = pd.DataFrame()\n",
    "for i in range(len(no_meal_times)):\n",
    "    lb = no_meal_times[i]\n",
    "    ub = no_meal_times[i] + datetime.timedelta(seconds=2*60*60)\n",
    "    filt = (cgm_data_df[\"DateTime\"] >= lb) & (cgm_data_df[\"DateTime\"] < ub)\n",
    "    filter_cgm_data_df = cgm_data_df[filt]\n",
    "    if len(filter_cgm_data_df.index) == 24 and filter_cgm_data_df.isnull().values.any() == False:\n",
    "        filter_cgm_data_df = filter_cgm_data_df.sort_values(by=\"DateTime\")\n",
    "        filter_cgm_data_df = filter_cgm_data_df.T\n",
    "        filter_cgm_data_df.drop('DateTime', inplace=True)\n",
    "        filter_cgm_data_df.reset_index(drop=True, inplace=True)\n",
    "        filter_cgm_data_df.columns = cols\n",
    "        no_meal_data_df = no_meal_data_df.append(filter_cgm_data_df, ignore_index=True)\n",
    "\n",
    "no_meal_data_df = no_meal_data_df.apply(pd.to_numeric)\n",
    "\n",
    "# extracting no meal data from CGM data\n",
    "cols = list(range(1,25))\n",
    "no_meal_data_p_df = pd.DataFrame()\n",
    "for i in range(len(no_meal_times_p)):\n",
    "    lb = no_meal_times_p[i]\n",
    "    ub = no_meal_times_p[i] + datetime.timedelta(seconds=2*60*60)\n",
    "    filt = (cgm_data_p_df[\"DateTime\"] >= lb) & (cgm_data_p_df[\"DateTime\"] < ub)\n",
    "    filter_cgm_data_df = cgm_data_p_df[filt]\n",
    "    if len(filter_cgm_data_df.index) == 24 and filter_cgm_data_df.isnull().values.any() == False:\n",
    "        filter_cgm_data_df = filter_cgm_data_df.sort_values(by=\"DateTime\")\n",
    "        filter_cgm_data_df = filter_cgm_data_df.T\n",
    "        filter_cgm_data_df.drop('DateTime', inplace=True)\n",
    "        filter_cgm_data_df.reset_index(drop=True, inplace=True)\n",
    "        filter_cgm_data_df.columns = cols\n",
    "        no_meal_data_p_df = no_meal_data_p_df.append(filter_cgm_data_df, ignore_index=True)\n",
    "\n",
    "no_meal_data_p_df = no_meal_data_p_df.apply(pd.to_numeric)"
   ]
  },
  {
   "cell_type": "code",
   "execution_count": 42,
   "metadata": {},
   "outputs": [],
   "source": [
    "total_data_X = np.concatenate((meal_data_p_test_df.to_numpy(), no_meal_data_p_df.to_numpy()), axis=0)\n",
    "mY = np.ones(meal_data_p_test_df.shape[0])\n",
    "nmY = np.zeros(no_meal_data_p_df.shape[0])\n",
    "total_data_Y = np.concatenate((mY, nmY), axis=0)\n",
    "np.savetxt(\"test.csv\", total_data_X, delimiter=\",\", fmt=\"%10.2f\")\n",
    "np.savetxt(\"testResult.csv\", total_data_Y, delimiter=\",\", fmt=\"%d\")"
   ]
  },
  {
   "cell_type": "code",
   "execution_count": 43,
   "metadata": {},
   "outputs": [],
   "source": [
    "# Feature extraction\n",
    "# tmax - tm\n",
    "# CGM_max - CGM_min\n",
    "# max CGM velocity, time at which the velocity is max\n",
    "# FTT - half sinusoidal - get two most dominant frequency buckets\n",
    "# windowed mean - window size = 6: you will get 4 and 5 means\n",
    "# take middle 5 means - window size = 3\n",
    "\n",
    "def absorption_time(row):\n",
    "    if row.size == 30:\n",
    "        newrow = row.iloc[6:30]\n",
    "        return 5*int(newrow.idxmax(skipna = True))\n",
    "    else:\n",
    "        return 5*int(row.idxmax(skipna = True))\n",
    "\n",
    "def CGM_max_velocity(row):\n",
    "    vmax = None\n",
    "    vmaxtime = None\n",
    "    for i in range(row.size):\n",
    "        if i == 0:\n",
    "            v = (row.iloc[i+1] - row.iloc[i])/5\n",
    "        elif i == row.size-1:\n",
    "            v = (row.iloc[i] - row.iloc[i-1])/5\n",
    "        else:\n",
    "            v = (row.iloc[i+1] - row.iloc[i-1])/10\n",
    "        if vmax == None or v > vmax:\n",
    "            vmax = v\n",
    "            vmaxtime = i*5\n",
    "    return (vmax, vmaxtime)\n",
    "\n",
    "def CGM_FFT(row):\n",
    "    sp = np.fft.fft(row)\n",
    "    power = np.square(sp.real) + np.square(sp.imag)\n",
    "    freq = np.fft.fftfreq(row.size, d=300)\n",
    "    mp = 0\n",
    "    mp2 = 0\n",
    "    mpi = None\n",
    "    mp2i = None\n",
    "    for i in range(1,row.size):\n",
    "        p = power[i]\n",
    "        f = freq[i]\n",
    "        \n",
    "        if p > mp:\n",
    "            mp2 = mp\n",
    "            mp2i = mpi\n",
    "            mp = p\n",
    "            mpi = f\n",
    "        elif p > mp2:\n",
    "            mp2 = p\n",
    "            mp2i = f\n",
    "            \n",
    "    return (mpi, mp2i)\n",
    "\n",
    "# take mean of middle 5 windows of 3 length\n",
    "def windowed_mean(row):\n",
    "    if row.size == 30:\n",
    "        newrow = row.iloc[7:22]\n",
    "    else:\n",
    "        newrow = row.iloc[4:19]\n",
    "    avgs = []\n",
    "    for i in range(5):\n",
    "        m = (newrow.iloc[i*3] + newrow.iloc[i*3 + 1] + newrow.iloc[i*3 + 2])/3\n",
    "        avgs.append(m)\n",
    "    return (avgs[0], avgs[1], avgs[2], avgs[3], avgs[4])\n",
    "\n",
    "\n",
    "def extract_data(input_df):\n",
    "    out_df = pd.DataFrame()\n",
    "    out_df['absorption_time (mins)'] = input_df.apply(lambda row: absorption_time(row), axis=1)\n",
    "    out_df['CGM_range'] = input_df.apply(lambda row: row.max() - row.min(), axis=1)\n",
    "\n",
    "    cgm_velocity_data = input_df.apply(lambda row: CGM_max_velocity(row), axis=1)\n",
    "    cgm_max_vel,cgm_max_vel_time = list(zip(*cgm_velocity_data))\n",
    "    out_df['CGM_max_vel'] = cgm_max_vel\n",
    "    out_df['CGM_max_vel_time'] = cgm_max_vel_time\n",
    "\n",
    "    cgm_fft_data = input_df.apply(lambda row: CGM_FFT(row), axis=1)\n",
    "    cgm_max_freq,cgm_max2_freq = list(zip(*cgm_fft_data))\n",
    "    out_df['CGM_max_freq'] = cgm_max_freq\n",
    "    out_df['CGM_max2_freq'] = cgm_max2_freq\n",
    "\n",
    "    cgm_wm_data = input_df.apply(lambda row: windowed_mean(row), axis=1)\n",
    "    cgm_wm1,cgm_wm2,cgm_wm3,cgm_wm4,cgm_wm5 = list(zip(*cgm_wm_data))\n",
    "    out_df['CGM_wm1'] = cgm_wm1\n",
    "    out_df['CGM_wm2'] = cgm_wm2\n",
    "    out_df['CGM_wm3'] = cgm_wm3\n",
    "    out_df['CGM_wm4'] = cgm_wm4\n",
    "    out_df['CGM_wm5'] = cgm_wm5\n",
    "    \n",
    "    return out_df\n",
    "\n",
    "meal_data_ext_df = extract_data(meal_data_df)\n",
    "no_meal_data_ext_df = extract_data(no_meal_data_df)\n",
    "meal_data_p_ext_df = extract_data(meal_data_p_df)\n",
    "no_meal_data_p_ext_df = extract_data(no_meal_data_p_df)"
   ]
  },
  {
   "cell_type": "code",
   "execution_count": 44,
   "metadata": {},
   "outputs": [],
   "source": [
    "# training SVM\n",
    "total_data_X = np.concatenate((meal_data_ext_df.to_numpy(), no_meal_data_ext_df.to_numpy(), meal_data_p_ext_df.to_numpy(), no_meal_data_p_ext_df.to_numpy()), axis=0)\n",
    "mY = np.ones(meal_data_ext_df.shape[0])\n",
    "nmY = np.zeros(no_meal_data_ext_df.shape[0])\n",
    "mpY = np.ones(meal_data_p_ext_df.shape[0])\n",
    "nmpY = np.zeros(no_meal_data_p_ext_df.shape[0])\n",
    "total_data_Y = np.concatenate((mY, nmY, mpY, nmpY), axis=0)\n",
    "\n",
    "x_train,x_test,y_train,y_test = train_test_split(total_data_X,total_data_Y,test_size=0.2,random_state=123)\n",
    "\n",
    "clf = svm.SVC()\n",
    "clf.fit(x_train, y_train)\n",
    "\n",
    "filename = 'finalized_model.sav'\n",
    "pickle.dump(clf, open(filename, 'wb'))"
   ]
  },
  {
   "cell_type": "code",
   "execution_count": 45,
   "metadata": {},
   "outputs": [],
   "source": [
    "yhat = clf.predict(x_test)\n",
    "# evaluate predictions\n",
    "acc = accuracy_score(y_test, yhat)"
   ]
  },
  {
   "cell_type": "code",
   "execution_count": 46,
   "metadata": {},
   "outputs": [
    {
     "data": {
      "text/plain": [
       "0.7315689981096408"
      ]
     },
     "execution_count": 46,
     "metadata": {},
     "output_type": "execute_result"
    }
   ],
   "source": [
    "acc"
   ]
  },
  {
   "cell_type": "code",
   "execution_count": 47,
   "metadata": {},
   "outputs": [],
   "source": [
    "yhat = np.loadtxt('Result.csv')\n",
    "y_test = np.loadtxt('testResult.csv')\n",
    "acc = accuracy_score(y_test, yhat)"
   ]
  },
  {
   "cell_type": "code",
   "execution_count": 48,
   "metadata": {},
   "outputs": [
    {
     "data": {
      "text/plain": [
       "0.7"
      ]
     },
     "execution_count": 48,
     "metadata": {},
     "output_type": "execute_result"
    }
   ],
   "source": [
    "acc"
   ]
  },
  {
   "cell_type": "code",
   "execution_count": 49,
   "metadata": {},
   "outputs": [],
   "source": [
    "true_file = pd.read_csv(r'/Users/tanujsingh/Desktop/FALL 2021/CSE 572 - DM/Assignment2/assignment 2/Result.csv')\n",
    "my_file = pd.read_csv(r'Result.csv')"
   ]
  },
  {
   "cell_type": "code",
   "execution_count": null,
   "metadata": {},
   "outputs": [],
   "source": []
  },
  {
   "cell_type": "code",
   "execution_count": null,
   "metadata": {},
   "outputs": [],
   "source": []
  }
 ],
 "metadata": {
  "kernelspec": {
   "display_name": "Python 2",
   "language": "python",
   "name": "python2"
  },
  "language_info": {
   "codemirror_mode": {
    "name": "ipython",
    "version": 2
   },
   "file_extension": ".py",
   "mimetype": "text/x-python",
   "name": "python",
   "nbconvert_exporter": "python",
   "pygments_lexer": "ipython2",
   "version": "2.7.16"
  }
 },
 "nbformat": 4,
 "nbformat_minor": 5
}
