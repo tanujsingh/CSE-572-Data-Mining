{
 "cells": [
  {
   "cell_type": "code",
   "execution_count": 143,
   "metadata": {},
   "outputs": [],
   "source": [
    "# import pandas\n",
    "import pandas as pd\n",
    "\n",
    "# import numpy\n",
    "import numpy as np"
   ]
  },
  {
   "cell_type": "code",
   "execution_count": 144,
   "metadata": {},
   "outputs": [],
   "source": [
    "#import cgm_data and insulin_data\n",
    "cgm_data = pd.read_csv('CGMData.csv', low_memory=False, usecols=['Date','Time','Sensor Glucose (mg/dL)'])\n",
    "insulin_data= pd.read_csv('InsulinData.csv', low_memory=False)"
   ]
  },
  {
   "cell_type": "code",
   "execution_count": 145,
   "metadata": {},
   "outputs": [],
   "source": [
    "#make date_time_stamp column using date and time column \n",
    "cgm_data['date_time_stamp'] = pd.to_datetime(cgm_data['Date'] + ' ' + cgm_data['Time'])\n",
    "insulin_data['date_time_stamp'] = pd.to_datetime(insulin_data['Date'] + ' ' + insulin_data['Time'])\n",
    "cgm_data['hour'] = cgm_data[\"date_time_stamp\"].dt.hour"
   ]
  },
  {
   "cell_type": "code",
   "execution_count": 146,
   "metadata": {},
   "outputs": [],
   "source": [
    "#classification of data\n",
    "cgm_data[\"hyperglycemia\"] = cgm_data[\"Sensor Glucose (mg/dL)\"].apply(lambda x: True if x > 180 else False)\n",
    "cgm_data[\"hyperglycemia_critical\"] = cgm_data[\"Sensor Glucose (mg/dL)\"].apply(lambda x: True if x > 250 else False)\n",
    "cgm_data[\"range\"] = cgm_data[\"Sensor Glucose (mg/dL)\"].apply(lambda x: True if x >= 70 and x  <= 180 else False)\n",
    "cgm_data[\"range_sec\"] = cgm_data[\"Sensor Glucose (mg/dL)\"].apply(lambda x: True if x >= 70 and x  <= 150 else False)\n",
    "cgm_data[\"hypoglycemia_L1\"] = cgm_data[\"Sensor Glucose (mg/dL)\"].apply(lambda x: True if x < 70 else False)\n",
    "cgm_data[\"hypoglycemia_L2\"] = cgm_data[\"Sensor Glucose (mg/dL)\"].apply(lambda x: True if x < 54 else False)"
   ]
  },
  {
   "cell_type": "code",
   "execution_count": 147,
   "metadata": {},
   "outputs": [],
   "source": [
    "#finding auto_mode and using the earlier one\n",
    "start_auto_mode = insulin_data.loc[insulin_data['Alarm'] == 'AUTO MODE ACTIVE PLGM OFF']\n",
    "earlier_auto_mode = start_auto_mode['date_time_stamp'].min()"
   ]
  },
  {
   "cell_type": "code",
   "execution_count": 148,
   "metadata": {},
   "outputs": [],
   "source": [
    "# night time data segregation in manaul and auto mode \n",
    "cgm_nighttime_data = cgm_data.loc[cgm_data['hour'] < 6]\n",
    "cgm_nighttime_manual_data = cgm_nighttime_data.loc[cgm_nighttime_data['date_time_stamp'] < earlier_auto_mode]\n",
    "cgm_nighttime_auto_data = cgm_nighttime_data.loc[cgm_nighttime_data['date_time_stamp'] >= earlier_auto_mode]"
   ]
  },
  {
   "cell_type": "code",
   "execution_count": 149,
   "metadata": {},
   "outputs": [],
   "source": [
    "#auto mode night time data classification\n",
    "cgm_nighttime_auto_total = cgm_nighttime_auto_data.resample('D', on='date_time_stamp').agg({ 'hyperglycemia': 'count' })\n",
    "cgm_nighttime_auto_total.rename(columns={'hyperglycemia': 'count'}, inplace=True)\n",
    "cgm_nighttime_auto_daily = cgm_nighttime_auto_data.resample('D', on='date_time_stamp').agg({'hyperglycemia': 'sum','hyperglycemia_critical': 'sum','range': 'sum','range_sec': 'sum','hypoglycemia_L1': 'sum','hypoglycemia_L2': 'sum'})\n",
    "cgm_nighttime_auto_daily = pd.concat([cgm_nighttime_auto_total, cgm_nighttime_auto_daily], axis='columns', sort=False)\n",
    "cgm_nighttime_auto_daily = cgm_nighttime_auto_daily[cgm_nighttime_auto_daily['count'] > 0.9*72]\n",
    "cgm_nighttime_auto_daily['hyperglycemia'] = cgm_nighttime_auto_daily['hyperglycemia']*100/(288*1.0)\n",
    "cgm_nighttime_auto_daily['hyperglycemia_critical'] = cgm_nighttime_auto_daily['hyperglycemia_critical']*100/(288*1.0)\n",
    "cgm_nighttime_auto_daily['range'] = cgm_nighttime_auto_daily['range']*100/(288*1.0)\n",
    "cgm_nighttime_auto_daily['range_sec'] = cgm_nighttime_auto_daily['range_sec']*100/(288*1.0)\n",
    "cgm_nighttime_auto_daily['hypoglycemia_L1'] = cgm_nighttime_auto_daily['hypoglycemia_L1']*100/(288*1.0)\n",
    "cgm_nighttime_auto_daily['hypoglycemia_L2'] = cgm_nighttime_auto_daily['hypoglycemia_L2']*100/(288*1.0)"
   ]
  },
  {
   "cell_type": "code",
   "execution_count": 150,
   "metadata": {},
   "outputs": [],
   "source": [
    "#manual mode night time data classification\n",
    "cgm_nighttime_manual_total = cgm_nighttime_manual_data.resample('D', on='date_time_stamp').agg({ 'hyperglycemia': 'count' })\n",
    "cgm_nighttime_manual_total.rename(columns={'hyperglycemia': 'count'}, inplace=True)\n",
    "cgm_nighttime_manual_daily = cgm_nighttime_manual_data.resample('D', on='date_time_stamp').agg({'hyperglycemia': 'sum','hyperglycemia_critical': 'sum','range': 'sum','range_sec': 'sum','hypoglycemia_L1': 'sum','hypoglycemia_L2': 'sum'})\n",
    "cgm_nighttime_manual_daily = pd.concat([cgm_nighttime_manual_total, cgm_nighttime_manual_daily], axis='columns', sort=False)\n",
    "cgm_nighttime_manual_daily = cgm_nighttime_manual_daily[cgm_nighttime_manual_daily['count'] > 0.9*72]\n",
    "cgm_nighttime_manual_daily['hyperglycemia'] = cgm_nighttime_manual_daily['hyperglycemia']*100/(288*1.0)\n",
    "cgm_nighttime_manual_daily['hyperglycemia_critical'] = cgm_nighttime_manual_daily['hyperglycemia_critical']*100/(288*1.0)\n",
    "cgm_nighttime_manual_daily['range'] = cgm_nighttime_manual_daily['range']*100/(288*1.0)\n",
    "cgm_nighttime_manual_daily['range_sec'] = cgm_nighttime_manual_daily['range_sec']*100/(288*1.0)\n",
    "cgm_nighttime_manual_daily['hypoglycemia_L1'] = cgm_nighttime_manual_daily['hypoglycemia_L1']*100/(288*1.0)\n",
    "cgm_nighttime_manual_daily['hypoglycemia_L2'] = cgm_nighttime_manual_daily['hypoglycemia_L2']*100/(288*1.0)"
   ]
  },
  {
   "cell_type": "code",
   "execution_count": 151,
   "metadata": {},
   "outputs": [],
   "source": [
    "#whole day data\n",
    "cgm_manual_data = cgm_data.loc[cgm_data['date_time_stamp'] < earlier_auto_mode]\n",
    "cgm_auto_data = cgm_data.loc[cgm_data['date_time_stamp'] >= earlier_auto_mode]"
   ]
  },
  {
   "cell_type": "code",
   "execution_count": 152,
   "metadata": {},
   "outputs": [],
   "source": [
    "#auto mode whole day data classification\n",
    "cgm_auto_total = cgm_auto_data.resample('D', on='date_time_stamp').agg({ 'hyperglycemia': 'count' })\n",
    "cgm_auto_total.rename(columns={'hyperglycemia': 'count'}, inplace=True)\n",
    "cgm_auto_daily = cgm_auto_data.resample('D', on='date_time_stamp').agg({'hyperglycemia': 'sum','hyperglycemia_critical': 'sum','range': 'sum','range_sec': 'sum','hypoglycemia_L1': 'sum','hypoglycemia_L2': 'sum'})\n",
    "cgm_auto_daily = pd.concat([cgm_auto_total, cgm_auto_daily], axis='columns', sort=False)\n",
    "cgm_auto_daily = cgm_auto_daily[cgm_auto_daily['count'] > 0.9*288]\n",
    "cgm_auto_daily['hyperglycemia'] = cgm_auto_daily['hyperglycemia']*100/(288*1.0)\n",
    "cgm_auto_daily['hyperglycemia_critical'] = cgm_auto_daily['hyperglycemia_critical']*100/(288*1.0)\n",
    "cgm_auto_daily['range'] = cgm_auto_daily['range']*100/(288*1.0)\n",
    "cgm_auto_daily['range_sec'] = cgm_auto_daily['range_sec']*100/(288*1.0)\n",
    "cgm_auto_daily['hypoglycemia_L1'] = cgm_auto_daily['hypoglycemia_L1']*100/(288*1.0)\n",
    "cgm_auto_daily['hypoglycemia_L2'] = cgm_auto_daily['hypoglycemia_L2']*100/(288*1.0)"
   ]
  },
  {
   "cell_type": "code",
   "execution_count": 153,
   "metadata": {},
   "outputs": [],
   "source": [
    "#manual mode whole daye data classification\n",
    "cgm_manual_total = cgm_manual_data.resample('D', on='date_time_stamp').agg({ 'hyperglycemia': 'count' })\n",
    "cgm_manual_total.rename(columns={'hyperglycemia': 'count'}, inplace=True)\n",
    "cgm_manual_daily = cgm_manual_data.resample('D', on='date_time_stamp').agg({'hyperglycemia': 'sum','hyperglycemia_critical': 'sum','range': 'sum','range_sec': 'sum','hypoglycemia_L1': 'sum','hypoglycemia_L2': 'sum'})\n",
    "cgm_manual_daily = pd.concat([cgm_manual_total, cgm_manual_daily], axis='columns', sort=False)\n",
    "cgm_manual_daily = cgm_manual_daily[cgm_manual_daily['count'] > 0.9*288]\n",
    "cgm_manual_daily['hyperglycemia'] = cgm_manual_daily['hyperglycemia']*100/(288*1.0)\n",
    "cgm_manual_daily['hyperglycemia_critical'] = cgm_manual_daily['hyperglycemia_critical']*100/(288*1.0)\n",
    "cgm_manual_daily['range'] = cgm_manual_daily['range']*100/(288*1.0)\n",
    "cgm_manual_daily['range_sec'] = cgm_manual_daily['range_sec']*100/(288*1.0)\n",
    "cgm_manual_daily['hypoglycemia_L1'] = cgm_manual_daily['hypoglycemia_L1']*100/(288*1.0)\n",
    "cgm_manual_daily['hypoglycemia_L2'] = cgm_manual_daily['hypoglycemia_L2']*100/(288*1.0)"
   ]
  },
  {
   "cell_type": "code",
   "execution_count": 154,
   "metadata": {},
   "outputs": [],
   "source": [
    "# daytime data segregation in manaul and auto mode \n",
    "cgm_daytime_data = cgm_data.loc[cgm_data['hour'] >= 6]\n",
    "cgm_daytime_manual_data = cgm_daytime_data.loc[cgm_daytime_data['date_time_stamp'] < earlier_auto_mode]\n",
    "cgm_daytime_auto_data = cgm_daytime_data.loc[cgm_daytime_data['date_time_stamp'] >= earlier_auto_mode]"
   ]
  },
  {
   "cell_type": "code",
   "execution_count": 155,
   "metadata": {},
   "outputs": [],
   "source": [
    "#auto mode day time data classification\n",
    "cgm_daytime_auto_total = cgm_daytime_auto_data.resample('D', on='date_time_stamp').agg({ 'hyperglycemia': 'count' })\n",
    "cgm_daytime_auto_total.rename(columns={'hyperglycemia': 'count'}, inplace=True)\n",
    "cgm_daytime_auto_daily = cgm_daytime_auto_data.resample('D', on='date_time_stamp').agg({'hyperglycemia': 'sum','hyperglycemia_critical': 'sum','range': 'sum','range_sec': 'sum','hypoglycemia_L1': 'sum','hypoglycemia_L2': 'sum'})\n",
    "cgm_daytime_auto_daily = pd.concat([cgm_daytime_auto_total, cgm_daytime_auto_daily], axis='columns', sort=False)\n",
    "cgm_daytime_auto_daily = cgm_daytime_auto_daily[cgm_daytime_auto_daily['count'] > 0.9*216]\n",
    "cgm_daytime_auto_daily['hyperglycemia'] = cgm_daytime_auto_daily['hyperglycemia']*100/(288*1.0)\n",
    "cgm_daytime_auto_daily['hyperglycemia_critical'] = cgm_daytime_auto_daily['hyperglycemia_critical']*100/(288*1.0)\n",
    "cgm_daytime_auto_daily['range'] = cgm_daytime_auto_daily['range']*100/(288*1.0)\n",
    "cgm_daytime_auto_daily['range_sec'] = cgm_daytime_auto_daily['range_sec']*100/(288*1.0)\n",
    "cgm_daytime_auto_daily['hypoglycemia_L1'] = cgm_daytime_auto_daily['hypoglycemia_L1']*100/(288*1.0)\n",
    "cgm_daytime_auto_daily['hypoglycemia_L2'] = cgm_daytime_auto_daily['hypoglycemia_L2']*100/(288*1.0)"
   ]
  },
  {
   "cell_type": "code",
   "execution_count": 156,
   "metadata": {},
   "outputs": [],
   "source": [
    "#manual mode day time data classification\n",
    "cgm_daytime_manual_total = cgm_daytime_manual_data.resample('D', on='date_time_stamp').agg({ 'hyperglycemia': 'count' })\n",
    "cgm_daytime_manual_total.rename(columns={'hyperglycemia': 'count'}, inplace=True)\n",
    "cgm_daytime_manual_daily = cgm_daytime_manual_data.resample('D', on='date_time_stamp').agg({'hyperglycemia': 'sum','hyperglycemia_critical': 'sum','range': 'sum','range_sec': 'sum','hypoglycemia_L1': 'sum','hypoglycemia_L2': 'sum'})\n",
    "cgm_daytime_manual_daily = pd.concat([cgm_daytime_manual_total, cgm_daytime_manual_daily], axis='columns', sort=False)\n",
    "cgm_daytime_manual_daily = cgm_daytime_manual_daily[cgm_daytime_manual_daily['count'] > 0.9*216]\n",
    "cgm_daytime_manual_daily['hyperglycemia'] = cgm_daytime_manual_daily['hyperglycemia']*100/(288*1.0)\n",
    "cgm_daytime_manual_daily['hyperglycemia_critical'] = cgm_daytime_manual_daily['hyperglycemia_critical']*100/(288*1.0)\n",
    "cgm_daytime_manual_daily['range'] = cgm_daytime_manual_daily['range']*100/(288*1.0)\n",
    "cgm_daytime_manual_daily['range_sec'] = cgm_daytime_manual_daily['range_sec']*100/(288*1.0)\n",
    "cgm_daytime_manual_daily['hypoglycemia_L1'] = cgm_daytime_manual_daily['hypoglycemia_L1']*100/(288*1.0)\n",
    "cgm_daytime_manual_daily['hypoglycemia_L2'] = cgm_daytime_manual_daily['hypoglycemia_L2']*100/(288*1.0)"
   ]
  },
  {
   "cell_type": "code",
   "execution_count": 157,
   "metadata": {},
   "outputs": [],
   "source": [
    "#creating results dataframe\n",
    "results_df = pd.DataFrame({\"01_overnight_hyperglycemia\": [ cgm_nighttime_manual_daily.mean()['hyperglycemia'], cgm_nighttime_auto_daily.mean()['hyperglycemia'] ],\n",
    "    \"02_overnight_hyperglycemia_critical\": [ cgm_nighttime_manual_daily.mean()['hyperglycemia_critical'], cgm_nighttime_auto_daily.mean()['hyperglycemia_critical'] ],\n",
    "    \"03_overnight_range\": [ cgm_nighttime_manual_daily.mean()['range'], cgm_nighttime_auto_daily.mean()['range'] ],\n",
    "    \"04_overnight_range_sec\": [ cgm_nighttime_manual_daily.mean()['range_sec'], cgm_nighttime_manual_daily.mean()['range_sec'] ],\n",
    "    \"05_overnight_hypoglycemia_L1\": [ cgm_nighttime_manual_daily.mean()['hypoglycemia_L1'], cgm_nighttime_auto_daily.mean()['hypoglycemia_L1'] ],\n",
    "    \"06_overnight_hypoglycemia_L2\": [ cgm_nighttime_manual_daily.mean()['hypoglycemia_L2'], cgm_nighttime_auto_daily.mean()['hypoglycemia_L2'] ],\n",
    "\n",
    "    \"07_daytime_hyperglycemia\": [ cgm_daytime_manual_daily.mean()['hyperglycemia'], cgm_daytime_auto_daily.mean()['hyperglycemia'] ],\n",
    "    \"08_daytime_hyperglycemia_critical\": [ cgm_daytime_manual_daily.mean()['hyperglycemia_critical'], cgm_daytime_auto_daily.mean()['hyperglycemia_critical'] ],\n",
    "    \"09_daytime_range\": [ cgm_daytime_manual_daily.mean()['range'], cgm_daytime_auto_daily.mean()['range'] ],\n",
    "    \"10_daytime_range_sec\": [ cgm_daytime_manual_daily.mean()['range_sec'], cgm_daytime_auto_daily.mean()['range_sec'] ],\n",
    "    \"11_daytime_hypoglycemia_L1\": [ cgm_daytime_manual_daily.mean()['hypoglycemia_L1'], cgm_daytime_auto_daily.mean()['hypoglycemia_L1'] ],\n",
    "    \"12_daytime_hypoglycemia_L2\": [ cgm_daytime_manual_daily.mean()['hypoglycemia_L2'], cgm_daytime_auto_daily.mean()['hypoglycemia_L2'] ],\n",
    "\n",
    "    \"13_wholeday_hyperglycemia\": [ cgm_manual_daily.mean()['hyperglycemia'], cgm_auto_daily.mean()['hyperglycemia'] ],\n",
    "    \"14_wholeday_hyperglycemia_critical\": [ cgm_manual_daily.mean()['hyperglycemia_critical'], cgm_auto_daily.mean()['hyperglycemia_critical'] ],\n",
    "    \"15_wholeday_range\": [ cgm_manual_daily.mean()['range'], cgm_auto_daily.mean()['range'] ],\n",
    "    \"16_wholeday_range_sec\": [ cgm_manual_daily.mean()['range_sec'], cgm_auto_daily.mean()['range_sec'] ],\n",
    "    \"17_wholeday_hypoglycemia_L1\": [ cgm_manual_daily.mean()['hypoglycemia_L1'], cgm_auto_daily.mean()['hypoglycemia_L1'] ],\n",
    "    \"18_wholeday_hypoglycemia_L2\": [ cgm_manual_daily.mean()['hypoglycemia_L2'], cgm_auto_daily.mean()['hypoglycemia_L2'] ], \n",
    "                        '19_Dummy': [1.1,1.1]}, index =['manual_mode', 'auto_mode'])"
   ]
  },
  {
   "cell_type": "code",
   "execution_count": 158,
   "metadata": {},
   "outputs": [],
   "source": [
    "#getting results in Results.csv file\n",
    "results_df.to_csv('Results.csv', header=False, index=False)\n"
   ]
  },
  {
   "cell_type": "code",
   "execution_count": null,
   "metadata": {},
   "outputs": [],
   "source": []
  }
 ],
 "metadata": {
  "kernelspec": {
   "display_name": "Python 2",
   "language": "python",
   "name": "python2"
  },
  "language_info": {
   "codemirror_mode": {
    "name": "ipython",
    "version": 2
   },
   "file_extension": ".py",
   "mimetype": "text/x-python",
   "name": "python",
   "nbconvert_exporter": "python",
   "pygments_lexer": "ipython2",
   "version": "2.7.16"
  }
 },
 "nbformat": 4,
 "nbformat_minor": 2
}
